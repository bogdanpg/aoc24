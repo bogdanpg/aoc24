{
 "cells": [
  {
   "cell_type": "markdown",
   "metadata": {},
   "source": [
    "Day 01 a"
   ]
  },
  {
   "cell_type": "code",
   "execution_count": 4,
   "metadata": {},
   "outputs": [
    {
     "data": {
      "text/plain": [
       "1320851"
      ]
     },
     "metadata": {},
     "output_type": "display_data"
    }
   ],
   "source": [
    "using DataFrames, CSV, BenchmarkTools\n",
    "\n",
    "df = DataFrame(CSV.File(\"day01a.txt\"; delim=\"   \", header=false))\n",
    "\n",
    "df1 = sort(df, [:Column1])\n",
    "df2 = sort(df, [:Column2])\n",
    "x = df1[!, :Column1]\n",
    "y = df2[!, :Column2]\n",
    "\n",
    "v = x - y\n",
    "sum(abs.(v))"
   ]
  },
  {
   "cell_type": "markdown",
   "metadata": {},
   "source": [
    "Day 01 b"
   ]
  },
  {
   "cell_type": "code",
   "execution_count": 6,
   "metadata": {},
   "outputs": [
    {
     "name": "stdout",
     "output_type": "stream",
     "text": [
      "  25.726 μs (2005 allocations: 54.78 KiB)\n"
     ]
    },
    {
     "data": {
      "text/plain": [
       "26859182"
      ]
     },
     "metadata": {},
     "output_type": "display_data"
    }
   ],
   "source": [
    "@btime( sum(map(e -> e * length(searchsorted(y, e)), x)) )\n"
   ]
  }
 ],
 "metadata": {
  "kernelspec": {
   "display_name": "Julia 1.11.1",
   "language": "julia",
   "name": "julia-1.11"
  },
  "language_info": {
   "file_extension": ".jl",
   "mimetype": "application/julia",
   "name": "julia",
   "version": "1.11.1"
  }
 },
 "nbformat": 4,
 "nbformat_minor": 2
}
